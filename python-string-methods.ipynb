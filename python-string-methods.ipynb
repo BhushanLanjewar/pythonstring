{
 "cells": [
  {
   "cell_type": "code",
   "execution_count": 1,
   "id": "92ad12af-0d3e-448d-9e01-fd4a34b74e3e",
   "metadata": {},
   "outputs": [
    {
     "name": "stdout",
     "output_type": "stream",
     "text": [
      "My name is bhsuahn\n"
     ]
    }
   ],
   "source": [
    "# capitalize\n",
    "\n",
    "a = 'my name is bhsuahn'\n",
    "\n",
    "print(a.capitalize())"
   ]
  },
  {
   "cell_type": "code",
   "execution_count": null,
   "id": "4417728a-172c-4b6d-83cb-3221dc465481",
   "metadata": {},
   "outputs": [],
   "source": []
  },
  {
   "cell_type": "code",
   "execution_count": 2,
   "id": "33f2a9ee-578f-4e40-8b6d-d6ba4a8a87c1",
   "metadata": {},
   "outputs": [
    {
     "name": "stdout",
     "output_type": "stream",
     "text": [
      "bhushan lanjewar\n"
     ]
    }
   ],
   "source": [
    "# casefold \n",
    "\n",
    "b = 'Bhushan Lanjewar'\n",
    "\n",
    "print(b.casefold())"
   ]
  },
  {
   "cell_type": "code",
   "execution_count": null,
   "id": "bcaa7c62-c55f-48df-a3d2-0db5ba62a98a",
   "metadata": {},
   "outputs": [],
   "source": []
  },
  {
   "cell_type": "code",
   "execution_count": 10,
   "id": "5274091e-bd57-403f-94b3-97ede49a49e3",
   "metadata": {},
   "outputs": [
    {
     "name": "stdout",
     "output_type": "stream",
     "text": [
      "                     bhandara                     \n"
     ]
    }
   ],
   "source": [
    "# center\n",
    "\n",
    "c = 'bhandara'\n",
    "\n",
    "print(c.center(50))"
   ]
  },
  {
   "cell_type": "code",
   "execution_count": null,
   "id": "16ad6e12-1238-4a14-96b3-2b1aca1004e6",
   "metadata": {},
   "outputs": [],
   "source": []
  },
  {
   "cell_type": "code",
   "execution_count": 4,
   "id": "9ba26abc-553a-4eed-8d2b-056d63fe9666",
   "metadata": {},
   "outputs": [
    {
     "name": "stdout",
     "output_type": "stream",
     "text": [
      "n = 3\n"
     ]
    }
   ],
   "source": [
    "# count\n",
    "\n",
    "d = 'pune and nagpur'\n",
    "\n",
    "city = d.count('n')\n",
    "\n",
    "print(f'n = {city}')"
   ]
  },
  {
   "cell_type": "code",
   "execution_count": null,
   "id": "d32964d1-646b-49bc-857a-ba244f6415a5",
   "metadata": {},
   "outputs": [],
   "source": []
  },
  {
   "cell_type": "code",
   "execution_count": 19,
   "id": "8baaa9e8-e0e3-4b45-9ed1-addca7cee38c",
   "metadata": {},
   "outputs": [
    {
     "name": "stdout",
     "output_type": "stream",
     "text": [
      "b'Rohit Sharma'\n"
     ]
    }
   ],
   "source": [
    "# encode \n",
    "\n",
    "e = 'Rohit Sharma'\n",
    "\n",
    "print(e.encode())"
   ]
  },
  {
   "cell_type": "code",
   "execution_count": null,
   "id": "1f92c57f-e643-4e36-9c1b-334c4f446055",
   "metadata": {},
   "outputs": [],
   "source": []
  },
  {
   "cell_type": "code",
   "execution_count": 5,
   "id": "427f9ff7-617c-4bd9-9c7e-b434a28f7415",
   "metadata": {},
   "outputs": [
    {
     "name": "stdout",
     "output_type": "stream",
     "text": [
      "True\n"
     ]
    }
   ],
   "source": [
    "# endswith\n",
    "\n",
    "f = 'python classes.'\n",
    "\n",
    "print(f.endswith('.'))"
   ]
  },
  {
   "cell_type": "code",
   "execution_count": null,
   "id": "feb2599e-52ed-4aec-9f43-23c31ae7e8bf",
   "metadata": {},
   "outputs": [],
   "source": []
  },
  {
   "cell_type": "code",
   "execution_count": 9,
   "id": "3ea23071-82e5-4a00-9a2d-b9e3193a1fb8",
   "metadata": {},
   "outputs": [
    {
     "name": "stdout",
     "output_type": "stream",
     "text": [
      "h    e    l    l    o\n",
      "h       e       l       l       o\n"
     ]
    }
   ],
   "source": [
    "#expandtabs\n",
    "\n",
    "g = 'h\\te\\tl\\tl\\to'\n",
    "\n",
    "print(g.expandtabs(5))\n",
    "print(g.expandtabs())"
   ]
  },
  {
   "cell_type": "code",
   "execution_count": null,
   "id": "e20ba236-ccb7-48fa-9301-16ac229aea98",
   "metadata": {},
   "outputs": [],
   "source": []
  },
  {
   "cell_type": "code",
   "execution_count": 49,
   "id": "7d9c8cf5-e233-4970-8c7f-ce776df5ccc0",
   "metadata": {},
   "outputs": [
    {
     "name": "stdout",
     "output_type": "stream",
     "text": [
      "14\n"
     ]
    }
   ],
   "source": [
    "# find \n",
    "\n",
    "h = 'The Legend Of Hanuman' \n",
    "\n",
    "print(h.find('Hanuman'))"
   ]
  },
  {
   "cell_type": "code",
   "execution_count": null,
   "id": "a67fb424-cbc0-4a3a-804d-ea6d3e66ed91",
   "metadata": {},
   "outputs": [],
   "source": []
  },
  {
   "cell_type": "code",
   "execution_count": 12,
   "id": "e30b4ca5-b2f8-479e-995c-ffeddc02d9f3",
   "metadata": {},
   "outputs": [
    {
     "name": "stdout",
     "output_type": "stream",
     "text": [
      " f = 8\n"
     ]
    }
   ],
   "source": [
    "# index\n",
    "\n",
    "msg = 'This is first text'\n",
    "\n",
    "msg1 = msg.index('f') \n",
    "\n",
    "print(f' f = {msg1}')"
   ]
  },
  {
   "cell_type": "code",
   "execution_count": null,
   "id": "e7a26cae-ed04-443b-a2de-2299f056ecdf",
   "metadata": {},
   "outputs": [],
   "source": []
  },
  {
   "cell_type": "code",
   "execution_count": 13,
   "id": "69a0aef7-de8e-4a17-818b-e604144ce423",
   "metadata": {},
   "outputs": [
    {
     "name": "stdout",
     "output_type": "stream",
     "text": [
      "True\n"
     ]
    }
   ],
   "source": [
    "# isalnum \n",
    "\n",
    "str = 'ViratKohali18'\n",
    "\n",
    "print(str.isalnum())"
   ]
  },
  {
   "cell_type": "code",
   "execution_count": null,
   "id": "a869d71f-fbd4-4314-bdfe-c9db7ad6fb49",
   "metadata": {},
   "outputs": [],
   "source": []
  },
  {
   "cell_type": "code",
   "execution_count": 19,
   "id": "e99f5a91-e17c-4311-9b99-ccede91642ef",
   "metadata": {},
   "outputs": [
    {
     "name": "stdout",
     "output_type": "stream",
     "text": [
      "True\n"
     ]
    }
   ],
   "source": [
    "# isalpha\n",
    "\n",
    "str = 'python'\n",
    "\n",
    "print(str.isalpha())"
   ]
  },
  {
   "cell_type": "code",
   "execution_count": null,
   "id": "f868e6d7-947e-4f01-a73f-51e590363578",
   "metadata": {},
   "outputs": [],
   "source": []
  },
  {
   "cell_type": "code",
   "execution_count": 21,
   "id": "715cd240-3bef-4485-80ee-a0c421330f90",
   "metadata": {},
   "outputs": [
    {
     "name": "stdout",
     "output_type": "stream",
     "text": [
      "True\n"
     ]
    }
   ],
   "source": [
    "# isdecimal\n",
    "\n",
    "str = '37'\n",
    "\n",
    "print(str.isdecimal())"
   ]
  },
  {
   "cell_type": "code",
   "execution_count": null,
   "id": "6eb07440-9548-4980-9dd0-bee0162e2744",
   "metadata": {},
   "outputs": [],
   "source": []
  },
  {
   "cell_type": "code",
   "execution_count": 22,
   "id": "d69525a7-71a2-48b3-97c1-17571ef60176",
   "metadata": {},
   "outputs": [
    {
     "name": "stdout",
     "output_type": "stream",
     "text": [
      "True\n"
     ]
    }
   ],
   "source": [
    "# isdigit\n",
    "\n",
    "str = '12345'\n",
    "\n",
    "print(str.isdigit())"
   ]
  },
  {
   "cell_type": "code",
   "execution_count": null,
   "id": "47059b38-b82f-4c9d-9a6a-0b80fb2b62f4",
   "metadata": {},
   "outputs": [],
   "source": []
  },
  {
   "cell_type": "code",
   "execution_count": 23,
   "id": "8222b861-259a-49aa-90de-c84b069f3ad6",
   "metadata": {},
   "outputs": [
    {
     "name": "stdout",
     "output_type": "stream",
     "text": [
      "True\n"
     ]
    }
   ],
   "source": [
    "# isidentifier\n",
    "\n",
    "list = 'value333'\n",
    "\n",
    "print(list.isidentifier())"
   ]
  },
  {
   "cell_type": "code",
   "execution_count": null,
   "id": "569bd90f-5574-40c5-9eaa-14d81212aaca",
   "metadata": {},
   "outputs": [],
   "source": []
  },
  {
   "cell_type": "code",
   "execution_count": 24,
   "id": "a7d64115-4f42-4362-9ec2-ed9d8000f5bf",
   "metadata": {},
   "outputs": [
    {
     "name": "stdout",
     "output_type": "stream",
     "text": [
      "True\n"
     ]
    }
   ],
   "source": [
    "# islower\n",
    "\n",
    "str = 'good morning'\n",
    "\n",
    "print(str.islower())"
   ]
  },
  {
   "cell_type": "code",
   "execution_count": null,
   "id": "7cc7ea8e-1131-4ee8-ab24-da54b926c25d",
   "metadata": {},
   "outputs": [],
   "source": []
  },
  {
   "cell_type": "code",
   "execution_count": 25,
   "id": "3508fbaa-3dad-4f48-a9fa-888704f5ac7e",
   "metadata": {},
   "outputs": [
    {
     "name": "stdout",
     "output_type": "stream",
     "text": [
      "True\n"
     ]
    }
   ],
   "source": [
    "# isnumeric \n",
    "\n",
    "str = '54321'\n",
    "\n",
    "print(str.isnumeric())"
   ]
  },
  {
   "cell_type": "code",
   "execution_count": null,
   "id": "fa7ef6b3-9700-4b8f-b12f-6030b87b74c0",
   "metadata": {},
   "outputs": [],
   "source": []
  },
  {
   "cell_type": "code",
   "execution_count": 26,
   "id": "6ff6805d-f550-46ae-a7c4-e864150bebfc",
   "metadata": {},
   "outputs": [
    {
     "name": "stdout",
     "output_type": "stream",
     "text": [
      "True\n"
     ]
    }
   ],
   "source": [
    "# isprintable \n",
    "\n",
    "str = 'Happy Birthday'\n",
    "\n",
    "print(str.isprintable())"
   ]
  },
  {
   "cell_type": "code",
   "execution_count": null,
   "id": "ac5816a3-00ed-473d-844d-17e461a79afa",
   "metadata": {},
   "outputs": [],
   "source": []
  },
  {
   "cell_type": "code",
   "execution_count": 27,
   "id": "487bcaf6-33c1-4641-a078-bfebc9b20983",
   "metadata": {},
   "outputs": [
    {
     "name": "stdout",
     "output_type": "stream",
     "text": [
      "True\n"
     ]
    }
   ],
   "source": [
    "# isspace\n",
    "\n",
    "str ='   '\n",
    "\n",
    "print(str.isspace())"
   ]
  },
  {
   "cell_type": "code",
   "execution_count": null,
   "id": "6202f8e2-168c-4319-a001-2bc1ac6a9285",
   "metadata": {},
   "outputs": [],
   "source": []
  },
  {
   "cell_type": "code",
   "execution_count": 28,
   "id": "75be5946-cb3a-4342-bb13-4c5a132a9d56",
   "metadata": {},
   "outputs": [
    {
     "name": "stdout",
     "output_type": "stream",
     "text": [
      "True\n"
     ]
    }
   ],
   "source": [
    "# istitle\n",
    "\n",
    "str = 'How Are You?'\n",
    "\n",
    "print(str.istitle())"
   ]
  },
  {
   "cell_type": "code",
   "execution_count": null,
   "id": "136d6288-b8d2-4712-885d-1948697aa89f",
   "metadata": {},
   "outputs": [],
   "source": []
  },
  {
   "cell_type": "code",
   "execution_count": 31,
   "id": "def18355-560e-4f43-b151-fe3190a96330",
   "metadata": {},
   "outputs": [
    {
     "name": "stdout",
     "output_type": "stream",
     "text": [
      "True\n"
     ]
    }
   ],
   "source": [
    "# isupper \n",
    "\n",
    "str = 'DA6 PYTHON CLASS'\n",
    "\n",
    "print(str.isupper())"
   ]
  },
  {
   "cell_type": "code",
   "execution_count": null,
   "id": "1ea14317-7232-463d-aa89-1d39f4bc5095",
   "metadata": {},
   "outputs": [],
   "source": []
  },
  {
   "cell_type": "code",
   "execution_count": 34,
   "id": "2ec418a8-c212-490f-89a2-474947eb34c3",
   "metadata": {},
   "outputs": [
    {
     "name": "stdout",
     "output_type": "stream",
     "text": [
      "mango-banana-apple-orange\n"
     ]
    }
   ],
   "source": [
    "# join\n",
    "\n",
    "fruits = {'banana','mango','apple','orange'}\n",
    "\n",
    "chr = '-'\n",
    "\n",
    "print(chr.join(fruits))\n",
    "\n"
   ]
  },
  {
   "cell_type": "code",
   "execution_count": null,
   "id": "ea47f5c5-6369-4727-8030-fd9224733546",
   "metadata": {},
   "outputs": [],
   "source": []
  },
  {
   "cell_type": "code",
   "execution_count": 35,
   "id": "bd3a60d6-60ed-422b-9d49-eddd57a2ceca",
   "metadata": {},
   "outputs": [
    {
     "name": "stdout",
     "output_type": "stream",
     "text": [
      "good morning\n"
     ]
    }
   ],
   "source": [
    "# lower \n",
    "\n",
    "str = 'GOOD MORNING'\n",
    "\n",
    "print(str.lower())"
   ]
  },
  {
   "cell_type": "code",
   "execution_count": null,
   "id": "671724ad-460d-445d-abcd-e2504ad6c279",
   "metadata": {},
   "outputs": [],
   "source": []
  },
  {
   "cell_type": "code",
   "execution_count": 37,
   "id": "22a3babb-3fee-45cf-a743-53e4a523452b",
   "metadata": {},
   "outputs": [
    {
     "name": "stdout",
     "output_type": "stream",
     "text": [
      "good night\n"
     ]
    }
   ],
   "source": [
    "# lstrip\n",
    "\n",
    "str = '#####good night'\n",
    "\n",
    "print(str.lstrip('#'))"
   ]
  },
  {
   "cell_type": "code",
   "execution_count": null,
   "id": "571bf120-2770-4104-afe5-172af620dbbd",
   "metadata": {},
   "outputs": [],
   "source": []
  },
  {
   "cell_type": "code",
   "execution_count": 38,
   "id": "d4e98c76-3a3f-478d-a31c-af8b77ceb00e",
   "metadata": {},
   "outputs": [
    {
     "name": "stdout",
     "output_type": "stream",
     "text": [
      "welcome to python class\n"
     ]
    }
   ],
   "source": [
    "# replace\n",
    "\n",
    "str = 'welcome to da6 class'\n",
    "\n",
    "print(str.replace('da6','python'))"
   ]
  },
  {
   "cell_type": "code",
   "execution_count": null,
   "id": "370f7005-9fde-4e62-969f-c5cfe3fe80aa",
   "metadata": {},
   "outputs": [],
   "source": []
  },
  {
   "cell_type": "code",
   "execution_count": 44,
   "id": "8159c546-f62f-44a3-8523-44e0bafcf0fb",
   "metadata": {},
   "outputs": [
    {
     "name": "stdout",
     "output_type": "stream",
     "text": [
      "15\n"
     ]
    }
   ],
   "source": [
    "# rfind\n",
    "\n",
    "str = 'i like to play cricket'\n",
    "\n",
    "print(str.rfind('cricket'))"
   ]
  },
  {
   "cell_type": "code",
   "execution_count": null,
   "id": "af207cdc-7641-46e6-87ed-6e02d3ae5b17",
   "metadata": {},
   "outputs": [],
   "source": []
  },
  {
   "cell_type": "code",
   "execution_count": 46,
   "id": "a2e8ebc9-b779-4ca7-a9ce-d4bb366d217a",
   "metadata": {},
   "outputs": [
    {
     "name": "stdout",
     "output_type": "stream",
     "text": [
      "28\n"
     ]
    }
   ],
   "source": [
    "# rindex\n",
    "\n",
    "str = 'i like to play football and cricket'\n",
    "\n",
    "print(str.rindex('cricket'))"
   ]
  },
  {
   "cell_type": "code",
   "execution_count": null,
   "id": "c73ed1b6-7e5f-4da6-acff-758fc1a773b9",
   "metadata": {},
   "outputs": [],
   "source": []
  },
  {
   "cell_type": "code",
   "execution_count": 49,
   "id": "be6707b7-0993-43b7-ad74-1cd324d363aa",
   "metadata": {},
   "outputs": [
    {
     "name": "stdout",
     "output_type": "stream",
     "text": [
      "#####india\n"
     ]
    }
   ],
   "source": [
    "# rjust \n",
    "\n",
    "str = 'india'\n",
    "\n",
    "print(str.rjust(10,'#'))"
   ]
  },
  {
   "cell_type": "code",
   "execution_count": null,
   "id": "0f92b305-df03-40ac-afe4-9784accc45fa",
   "metadata": {},
   "outputs": [],
   "source": []
  },
  {
   "cell_type": "code",
   "execution_count": 55,
   "id": "7baf9bac-d150-4970-95d0-31865ba1bd76",
   "metadata": {},
   "outputs": [
    {
     "name": "stdout",
     "output_type": "stream",
     "text": [
      "['cricket,football,hocky', 'vollryball', 'tabletennis']\n"
     ]
    }
   ],
   "source": [
    "# rsplit \n",
    "\n",
    "sports = 'cricket,football,hocky,vollryball,tabletennis'\n",
    "\n",
    "print(sports.rsplit(',',2))"
   ]
  },
  {
   "cell_type": "code",
   "execution_count": null,
   "id": "a0f29c50-9a46-4383-9581-138977460fcd",
   "metadata": {},
   "outputs": [],
   "source": []
  },
  {
   "cell_type": "code",
   "execution_count": 58,
   "id": "cd164fda-a27b-47b6-86eb-fedf81883d33",
   "metadata": {},
   "outputs": [
    {
     "name": "stdout",
     "output_type": "stream",
     "text": [
      "python\n"
     ]
    }
   ],
   "source": [
    "#rstrip\n",
    "\n",
    "str = 'python@@@@'\n",
    "\n",
    "print(str.rstrip('@'))\n",
    "\n"
   ]
  },
  {
   "cell_type": "code",
   "execution_count": null,
   "id": "c9349d3f-65bd-4bbf-8fae-09f09dd4d742",
   "metadata": {},
   "outputs": [],
   "source": []
  },
  {
   "cell_type": "code",
   "execution_count": 62,
   "id": "1876741e-b2c8-4b86-ab38-9ce71888b436",
   "metadata": {},
   "outputs": [
    {
     "name": "stdout",
     "output_type": "stream",
     "text": [
      "['one', 'two', 'three', 'four']\n",
      "['one', 'two@@three@@four']\n"
     ]
    }
   ],
   "source": [
    "#split\n",
    "\n",
    "str = 'one@@two@@three@@four'\n",
    "\n",
    "print(str.split('@@'))\n",
    "print(str.split('@@',1))"
   ]
  },
  {
   "cell_type": "code",
   "execution_count": null,
   "id": "8f0054f8-2a9b-456b-9aff-b399c44fde69",
   "metadata": {},
   "outputs": [],
   "source": []
  },
  {
   "cell_type": "code",
   "execution_count": 69,
   "id": "3603ae1c-cd64-49df-82ee-f6a80f1ac752",
   "metadata": {},
   "outputs": [
    {
     "name": "stdout",
     "output_type": "stream",
     "text": [
      "['1', '2', '3', '4', '5']\n"
     ]
    }
   ],
   "source": [
    "# splitlines\n",
    "\n",
    "str = '1\\n2\\n3\\n4\\n5'\n",
    "\n",
    "print(str.splitlines())"
   ]
  },
  {
   "cell_type": "code",
   "execution_count": null,
   "id": "b2498da1-c944-4600-91c7-cd7daaf01f1c",
   "metadata": {},
   "outputs": [],
   "source": []
  },
  {
   "cell_type": "code",
   "execution_count": 72,
   "id": "cadc3e0f-5d24-4480-b4a4-c1e0fd5efc91",
   "metadata": {},
   "outputs": [
    {
     "name": "stdout",
     "output_type": "stream",
     "text": [
      "True\n",
      "False\n"
     ]
    }
   ],
   "source": [
    "# startswith\n",
    "\n",
    "str = 'my name is bhushan'\n",
    "\n",
    "print(str.startswith('my'))\n",
    "print(str.startswith('is'))"
   ]
  },
  {
   "cell_type": "code",
   "execution_count": null,
   "id": "9c8f1062-eb4e-41d1-ae99-35dfe27ce933",
   "metadata": {},
   "outputs": [],
   "source": []
  },
  {
   "cell_type": "code",
   "execution_count": 74,
   "id": "b5fa5a47-98e1-4086-b2f8-dfdbfa71769c",
   "metadata": {},
   "outputs": [
    {
     "name": "stdout",
     "output_type": "stream",
     "text": [
      " BHUSHAN LANJEWAR\n"
     ]
    }
   ],
   "source": [
    "# swapcase\n",
    "\n",
    "str = ' bhushan lanjewar'\n",
    "\n",
    "print(str.swapcase())"
   ]
  },
  {
   "cell_type": "code",
   "execution_count": null,
   "id": "a5b0ac43-9e70-4e02-bd0d-6198cabe8001",
   "metadata": {},
   "outputs": [],
   "source": []
  },
  {
   "cell_type": "code",
   "execution_count": 75,
   "id": "fb532230-030e-436c-ad0c-9698090afb5c",
   "metadata": {},
   "outputs": [
    {
     "name": "stdout",
     "output_type": "stream",
     "text": [
      "The Legend Of Hanuman\n"
     ]
    }
   ],
   "source": [
    "# title\n",
    "\n",
    "msg = 'the legend of hanuman'\n",
    "\n",
    "print(msg.title())"
   ]
  },
  {
   "cell_type": "code",
   "execution_count": null,
   "id": "9426c3af-90b4-46fc-ab94-d4833fd8d8ee",
   "metadata": {},
   "outputs": [],
   "source": []
  },
  {
   "cell_type": "code",
   "execution_count": 77,
   "id": "ba334eaf-db2c-40b0-a99b-a474b43c1fcf",
   "metadata": {},
   "outputs": [
    {
     "name": "stdout",
     "output_type": "stream",
     "text": [
      "THE LEGEND OF HANUMAN\n"
     ]
    }
   ],
   "source": [
    "# upper\n",
    "\n",
    "msg = 'the legend of hanuman'\n",
    "\n",
    "print(msg.upper())"
   ]
  },
  {
   "cell_type": "code",
   "execution_count": null,
   "id": "86e374e7-1848-415c-91c1-f4e64bca5df8",
   "metadata": {},
   "outputs": [],
   "source": []
  },
  {
   "cell_type": "code",
   "execution_count": 87,
   "id": "f093f4e7-5fc3-4173-a3a8-e7c4f29f6798",
   "metadata": {},
   "outputs": [
    {
     "name": "stdout",
     "output_type": "stream",
     "text": [
      "0000colour\n"
     ]
    }
   ],
   "source": [
    "# zfill\n",
    "\n",
    "str = 'colour'\n",
    "\n",
    "print(str.zfill(10))"
   ]
  },
  {
   "cell_type": "code",
   "execution_count": null,
   "id": "114d0f12-36f5-422a-a240-e09c4b3603b3",
   "metadata": {},
   "outputs": [],
   "source": []
  },
  {
   "cell_type": "code",
   "execution_count": 88,
   "id": "8e39f5ae-74d9-457d-83ac-aeecc366cae4",
   "metadata": {},
   "outputs": [
    {
     "name": "stdout",
     "output_type": "stream",
     "text": [
      "1,2,3,4,5\n"
     ]
    }
   ],
   "source": [
    "# strip\n",
    "\n",
    "val = '   1,2,3,4,5    '\n",
    "\n",
    "print(val.strip())"
   ]
  }
 ],
 "metadata": {
  "kernelspec": {
   "display_name": "Python 3 (ipykernel)",
   "language": "python",
   "name": "python3"
  },
  "language_info": {
   "codemirror_mode": {
    "name": "ipython",
    "version": 3
   },
   "file_extension": ".py",
   "mimetype": "text/x-python",
   "name": "python",
   "nbconvert_exporter": "python",
   "pygments_lexer": "ipython3",
   "version": "3.11.7"
  }
 },
 "nbformat": 4,
 "nbformat_minor": 5
}
